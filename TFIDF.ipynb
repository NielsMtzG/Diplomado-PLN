{
 "cells": [
  {
   "cell_type": "code",
   "execution_count": 1,
   "metadata": {
    "id": "8WQxhv7L2J3K"
   },
   "outputs": [],
   "source": [
    "import pandas as pd\n",
    "from sklearn.decomposition import TruncatedSVD\n",
    "from sklearn.feature_extraction.text import CountVectorizer, TfidfVectorizer\n",
    "import string\n",
    "import nltk\n",
    "from nltk.stem import PorterStemmer\n",
    "from spacy.lang.en.stop_words import STOP_WORDS\n",
    "from spacy.lang.en import English\n",
    "import spacy\n",
    "from tqdm import tqdm"
   ]
  },
  {
   "cell_type": "code",
   "execution_count": 2,
   "metadata": {
    "id": "KjemQagp2UyP"
   },
   "outputs": [],
   "source": [
    "def elnum(cad): #eliminamos numeros puntuación, etc. regresa cadena\n",
    "\tSN = ''.join([i for i in cad if not i.isdigit()])\n",
    "\tclean_text = ''.join([char for char in SN if char not in string.punctuation])\n",
    "\ttlimp=clean_text.lower()\n",
    "\tdd=tlimp.split(\" \")\n",
    "\tterm=[]\n",
    "\tfor i in dd:\n",
    "\t\tif i.__contains__(' ')==False and i.__contains__('\\n')==False:\n",
    "\t\t\tterm.append(i)\n",
    "\tttt=' '.join(term)\n",
    "\treturn ttt"
   ]
  },
  {
   "cell_type": "code",
   "execution_count": 3,
   "metadata": {
    "id": "jadVmMQK2Yjn"
   },
   "outputs": [],
   "source": [
    "def limpieza(cad): #regresa un docuemnto(sin stop-words)\n",
    "\tnlp = spacy.load(\"en_core_web_sm\")\n",
    "\tstop_words = spacy.lang.en.stop_words.STOP_WORDS\n",
    "\tdoc = nlp(cad)\n",
    "\tfiltered_tokens = [token for token in doc if not token.is_stop and token.text !=' ']\n",
    "\treturn ' '.join([token.text for token in filtered_tokens])\n"
   ]
  },
  {
   "cell_type": "code",
   "execution_count": 4,
   "metadata": {
    "id": "-TVYTksL2ePG"
   },
   "outputs": [],
   "source": [
    "def lemma(cad):\n",
    "\n",
    "\tnlp = spacy.load(\"en_core_web_sm\")\n",
    "\tdoc = nlp(cad)\n",
    "\tlemma_tokens = ' '.join([token.lemma_ for token in doc])\n",
    "\treturn lemma_tokens"
   ]
  },
  {
   "cell_type": "code",
   "execution_count": 5,
   "metadata": {
    "id": "mECDYtuN2fln"
   },
   "outputs": [],
   "source": [
    "def stemm(cad):\n",
    "\tps = PorterStemmer()\n",
    "\tarr=[]\n",
    "\texample_words=cad.split(\" \")\n",
    "\tfor word in example_words:\n",
    "\t\tarr.append(ps.stem(word))\n",
    "\tfinal=\" \".join(arr)\n",
    "\treturn final"
   ]
  },
  {
   "cell_type": "code",
   "execution_count": null,
   "metadata": {
    "colab": {
     "base_uri": "https://localhost:8080/"
    },
    "id": "tBCfOnFF2xaz",
    "outputId": "834c9072-990a-438c-aa22-6ff227b61f03"
   },
   "outputs": [
    {
     "name": "stdout",
     "output_type": "stream",
     "text": [
      "15171\n"
     ]
    },
    {
     "name": "stderr",
     "output_type": "stream",
     "text": [
      "Normalizando texto:   1%|                 | 103/15171 [00:54<2:07:36,  1.97it/s]"
     ]
    }
   ],
   "source": [
    "path=\"austinHousingData.csv\"\n",
    "data=pd.read_csv(path)\n",
    "corpus=list(data['description'])\n",
    "print(len(corpus))\n",
    "y=list(data['latestPrice'])\n",
    "document=[]\n",
    "ttd=len(corpus)\n",
    "for i in tqdm(range(0, ttd), desc =\"Normalizando texto\"):\n",
    "\ttry:\n",
    "\t\tt1=elnum(corpus[i])\n",
    "\t\tt2=limpieza(t1)\n",
    "\t\t#lterm=lemma(t2)\n",
    "\t\tste=stemm(t2)\n",
    "\t\tdocument.append(ste)\n",
    "\texcept:\n",
    "\t\tprint('el documento no se pudo pre-procesar', i)"
   ]
  },
  {
   "cell_type": "code",
   "execution_count": null,
   "metadata": {
    "colab": {
     "base_uri": "https://localhost:8080/",
     "height": 221
    },
    "id": "WN8-shhhvixF",
    "outputId": "df27edd9-4d8e-4b05-c2d7-78e6d848fe97"
   },
   "outputs": [
    {
     "ename": "NameError",
     "evalue": "name 'CountVectorizer' is not defined",
     "output_type": "error",
     "traceback": [
      "\u001b[0;31m---------------------------------------------------------------------------\u001b[0m",
      "\u001b[0;31mNameError\u001b[0m                                 Traceback (most recent call last)",
      "\u001b[0;32m<ipython-input-1-ee305b5ab1e9>\u001b[0m in \u001b[0;36m<cell line: 1>\u001b[0;34m()\u001b[0m\n\u001b[0;32m----> 1\u001b[0;31m \u001b[0mvectorizer\u001b[0m \u001b[0;34m=\u001b[0m \u001b[0mCountVectorizer\u001b[0m\u001b[0;34m(\u001b[0m\u001b[0;34m)\u001b[0m \u001b[0;31m#TfidfVectorizer()\u001b[0m\u001b[0;34m\u001b[0m\u001b[0;34m\u001b[0m\u001b[0m\n\u001b[0m\u001b[1;32m      2\u001b[0m \u001b[0mX\u001b[0m \u001b[0;34m=\u001b[0m \u001b[0mvectorizer\u001b[0m\u001b[0;34m.\u001b[0m\u001b[0mfit_transform\u001b[0m\u001b[0;34m(\u001b[0m\u001b[0mdocument\u001b[0m\u001b[0;34m)\u001b[0m\u001b[0;34m\u001b[0m\u001b[0;34m\u001b[0m\u001b[0m\n\u001b[1;32m      3\u001b[0m \u001b[0mprint\u001b[0m\u001b[0;34m(\u001b[0m\u001b[0mX\u001b[0m\u001b[0;34m.\u001b[0m\u001b[0mshape\u001b[0m\u001b[0;34m)\u001b[0m\u001b[0;34m\u001b[0m\u001b[0;34m\u001b[0m\u001b[0m\n\u001b[1;32m      4\u001b[0m \u001b[0mn\u001b[0m\u001b[0;34m=\u001b[0m\u001b[0;36m300\u001b[0m\u001b[0;34m\u001b[0m\u001b[0;34m\u001b[0m\u001b[0m\n\u001b[1;32m      5\u001b[0m \u001b[0mnom\u001b[0m\u001b[0;34m=\u001b[0m\u001b[0;34m[\u001b[0m\u001b[0;34m]\u001b[0m\u001b[0;34m\u001b[0m\u001b[0;34m\u001b[0m\u001b[0m\n",
      "\u001b[0;31mNameError\u001b[0m: name 'CountVectorizer' is not defined"
     ]
    }
   ],
   "source": [
    "vectorizer = TfidfVectorizer() #CountVectorizer()\n",
    "X = vectorizer.fit_transform(document)\n",
    "print(X.shape)\n"
   ]
  },
  {
   "cell_type": "code",
   "execution_count": null,
   "metadata": {
    "colab": {
     "base_uri": "https://localhost:8080/",
     "height": 216
    },
    "id": "H92wyhxhcRde",
    "outputId": "3bf9ae8f-999b-472e-9e95-6c4a1cd8df10"
   },
   "outputs": [
    {
     "ename": "NameError",
     "evalue": "name 'vectorizer' is not defined",
     "output_type": "error",
     "traceback": [
      "\u001b[0;31m---------------------------------------------------------------------------\u001b[0m",
      "\u001b[0;31mNameError\u001b[0m                                 Traceback (most recent call last)",
      "\u001b[0;32m<ipython-input-1-73fba6e7695b>\u001b[0m in \u001b[0;36m<cell line: 0>\u001b[0;34m()\u001b[0m\n\u001b[1;32m      1\u001b[0m \u001b[0;31m# Obtener los nombres de las palabras como columnas\u001b[0m\u001b[0;34m\u001b[0m\u001b[0;34m\u001b[0m\u001b[0m\n\u001b[0;32m----> 2\u001b[0;31m \u001b[0mcolumn_names\u001b[0m \u001b[0;34m=\u001b[0m \u001b[0mvectorizer\u001b[0m\u001b[0;34m.\u001b[0m\u001b[0mget_feature_names_out\u001b[0m\u001b[0;34m(\u001b[0m\u001b[0;34m)\u001b[0m\u001b[0;34m\u001b[0m\u001b[0;34m\u001b[0m\u001b[0m\n\u001b[0m\u001b[1;32m      3\u001b[0m \u001b[0;34m\u001b[0m\u001b[0m\n\u001b[1;32m      4\u001b[0m \u001b[0;31m# Crear el DataFrame\u001b[0m\u001b[0;34m\u001b[0m\u001b[0;34m\u001b[0m\u001b[0m\n\u001b[1;32m      5\u001b[0m \u001b[0mdfsal\u001b[0m \u001b[0;34m=\u001b[0m \u001b[0mpd\u001b[0m\u001b[0;34m.\u001b[0m\u001b[0mDataFrame\u001b[0m\u001b[0;34m(\u001b[0m\u001b[0mX\u001b[0m\u001b[0;34m.\u001b[0m\u001b[0mtoarray\u001b[0m\u001b[0;34m(\u001b[0m\u001b[0;34m)\u001b[0m\u001b[0;34m,\u001b[0m \u001b[0mcolumns\u001b[0m\u001b[0;34m=\u001b[0m\u001b[0mcolumn_names\u001b[0m\u001b[0;34m)\u001b[0m\u001b[0;34m\u001b[0m\u001b[0;34m\u001b[0m\u001b[0m\n",
      "\u001b[0;31mNameError\u001b[0m: name 'vectorizer' is not defined"
     ]
    }
   ],
   "source": [
    "n=300\n",
    "nom=[]\n",
    "print(len(vectorizer.get_feature_names_out()))\n",
    "svd = TruncatedSVD(n_components=n, n_iter=10, random_state=42)\n",
    "svd.fit(X)\n",
    "print(svd)\n",
    "XB=svd.transform(X)\n",
    "print(svd.explained_variance_ratio_.sum())"
   ]
  },
  {
   "cell_type": "code",
   "execution_count": null,
   "metadata": {
    "id": "910VU3zLq5yV"
   },
   "outputs": [],
   "source": [
    "# Obtener los nombres de las palabras como columnas\n",
    "column_names = vectorizer.get_feature_names_out()\n",
    "\n",
    "# Crear el DataFrame\n",
    "dfsal = pd.DataFrame(X.toarray(), columns=column_names)\n",
    "dfsal.to_csv('out.csv', index=False)"
   ]
  }
 ],
 "metadata": {
  "colab": {
   "provenance": []
  },
  "kernelspec": {
   "display_name": "Python 3 (ipykernel)",
   "language": "python",
   "name": "python3"
  },
  "language_info": {
   "codemirror_mode": {
    "name": "ipython",
    "version": 3
   },
   "file_extension": ".py",
   "mimetype": "text/x-python",
   "name": "python",
   "nbconvert_exporter": "python",
   "pygments_lexer": "ipython3",
   "version": "3.10.4"
  }
 },
 "nbformat": 4,
 "nbformat_minor": 4
}
